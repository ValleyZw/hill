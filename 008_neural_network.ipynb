{
 "cells": [
  {
   "cell_type": "code",
   "execution_count": null,
   "metadata": {},
   "outputs": [],
   "source": [
    "# Standard scientific Python imports\n",
    "import numpy as np\n",
    "import matplotlib.pyplot as plt\n",
    "from sklearn import datasets\n",
    "from sklearn.preprocessing import OneHotEncoder\n",
    "from sklearn.model_selection import train_test_split\n",
    "\n",
    "# Load the digits dataset\n",
    "digits = datasets.load_digits()"
   ]
  },
  {
   "cell_type": "code",
   "execution_count": null,
   "metadata": {},
   "outputs": [],
   "source": [
    "# Inspect dataset\n",
    "SAMPLE = 0\n",
    "(ROW, COL) = (5, 5)\n",
    "(WIDTH, HEIGHT) = np.shape(digits.images[SAMPLE])\n",
    "\n",
    "plt.figure(figsize=(5,5))\n",
    "images_and_labels = list(zip(digits.images, digits.target))\n",
    "for index, (image, label) in enumerate(images_and_labels[:ROW*COL]):\n",
    "    plt.subplot(ROW, COL, index + 1)\n",
    "    plt.xticks([])\n",
    "    plt.yticks([])\n",
    "    plt.imshow(image, cmap=plt.cm.gray_r, interpolation='nearest')\n",
    "plt.show()\n",
    "\n",
    "print(f'{digits.target[SAMPLE]} -> {WIDTH} x {HEIGHT}\\n {digits.images[SAMPLE]}')"
   ]
  },
  {
   "cell_type": "code",
   "execution_count": null,
   "metadata": {},
   "outputs": [],
   "source": [
    "# Convert categorical variable into dummy/indicator variables\n",
    "labels = digits.target.reshape(len(digits.target),1) \n",
    "enc = OneHotEncoder()\n",
    "enc.fit(labels)\n",
    "onehotlabels = enc.transform(labels).toarray()\n",
    "print(f'{digits.target[SAMPLE]} -> {onehotlabels[SAMPLE]}')"
   ]
  },
  {
   "cell_type": "code",
   "execution_count": null,
   "metadata": {},
   "outputs": [],
   "source": [
    "wrapper_images = [np.reshape(i, (WIDTH*HEIGHT)) for i in digits.images]\n",
    "wrapper_labels = onehotlabels\n",
    "\n",
    "print(f'images -> {np.shape(wrapper_images)}, labels -> {np.shape(wrapper_labels)}')"
   ]
  },
  {
   "cell_type": "code",
   "execution_count": null,
   "metadata": {},
   "outputs": [],
   "source": [
    "X_train, X_test, y_train, y_test = train_test_split(wrapper_images, wrapper_labels, test_size=0.33, random_state=42)\n",
    "# convert matrix to (samples x features)\n",
    "X_train = np.array(X_train)\n",
    "X_test = np.array(X_test)\n",
    "y_train = np.array(y_train)\n",
    "y_test = np.array(y_test)"
   ]
  },
  {
   "cell_type": "code",
   "execution_count": null,
   "metadata": {},
   "outputs": [],
   "source": [
    "class NeuralNetwork:\n",
    "    \"\"\" Feedforward neural network \"\"\"\n",
    "    def __init__(self, neurons):\n",
    "        self._layers = len(neurons)\n",
    "        self._weights = [np.random.randn(nex, pre+1) for pre, nex in zip(neurons[:-1], neurons[1:])]\n",
    "    \n",
    "    def _init_params(self, x, y, iterations, learning_rate):\n",
    "        \"\"\" Initilize parameters. \"\"\"\n",
    "        self._x = x.T\n",
    "        self._y = y.T\n",
    "        self._learning_rate = learning_rate\n",
    "        self.costs_ = np.zeros(iterations)\n",
    "        \n",
    "    def _sigmoid(self, x):\n",
    "        \"\"\" Computes sigmoid function. \"\"\"\n",
    "        return 1.0/(1 + np.exp(-x))    \n",
    "    \n",
    "    def _feedforward(self, a):  \n",
    "        a_s = []\n",
    "        for w in self._weights:\n",
    "            a = np.vstack([np.ones((1, a.shape[1])), a])\n",
    "            a_s.append(a)\n",
    "            z = w.dot(a)\n",
    "            a = self._sigmoid(z)\n",
    "        a_s.append(a)\n",
    "        return a_s\n",
    "        \n",
    "    def _backprop(self, a_s):\n",
    "        \"\"\" Update weights. \"\"\"\n",
    "        delta_weights = [np.zeros(w.shape) for w in self._weights]\n",
    "        # Update last layer delta\n",
    "        delta = a_s[-1] - self._y\n",
    "        delta_weights[-1] = delta.dot(a_s[-2].T)\n",
    "        # Update all but the last layer delta\n",
    "        for L in range(2, self._layers):\n",
    "            # [1:] Ignore bias term\n",
    "            delta = (self._weights[-L+1].T.dot(delta)*a_s[-L]*(1-a_s[-L]))[1:]\n",
    "            delta_weights[-L] = delta.dot(a_s[-L-1].T) \n",
    "        # Update all weights\n",
    "        self._weights = [w - self._learning_rate * dw for w, dw in zip(self._weights, delta_weights)]\n",
    "    \n",
    "    def _get_cost(self, a):\n",
    "        \"\"\" Compute loss. \"\"\"\n",
    "        return 1/(2*self._y.shape[1]) * np.sum((a - self._y)**2)\n",
    "\n",
    "    def fit(self, x, y, iterations=1000, learning_rate=0.5):\n",
    "        self._init_params(x, y, iterations, learning_rate)\n",
    "\n",
    "        for i in range(iterations):\n",
    "            a_s = self._feedforward(self._x)\n",
    "            self._backprop(a_s)\n",
    "            self.costs_[i] = self._get_cost(a_s[-1])\n",
    "        return self\n",
    "    \n",
    "    def predict(self, x):\n",
    "        a_s = self._feedforward(x.T)\n",
    "        return a_s[-1]\n",
    "    \n",
    "    def score(self, y_pred, y_test):\n",
    "        return sum(int(np.argmax(x) == np.argmax(y)) for (x, y) in zip(y_pred.T, y_test.T)) / y_pred.shape[1]"
   ]
  },
  {
   "cell_type": "code",
   "execution_count": null,
   "metadata": {},
   "outputs": [],
   "source": [
    "# Train model\n",
    "neurons = [64, 64, 64, 10]\n",
    "nn = NeuralNetwork(neurons)\n",
    "model = nn.fit(X_train, y_train, iterations=5000, learning_rate=0.001)"
   ]
  },
  {
   "cell_type": "code",
   "execution_count": null,
   "metadata": {},
   "outputs": [],
   "source": [
    "y_pred = nn.predict(X_test)\n",
    "print(f'score: {nn.score(y_pred, y_test.T):.2f}')"
   ]
  },
  {
   "cell_type": "code",
   "execution_count": null,
   "metadata": {},
   "outputs": [],
   "source": [
    "plt.figure(figsize=(10,5))\n",
    "ax = plt.gca()\n",
    "ax.grid(color='#b7b7b7', linestyle='-', linewidth=0.5, alpha=0.5)\n",
    "plt.plot(nn.costs_, label='costs', color='#121212', linewidth=2, alpha=0.9)\n",
    "plt.show()"
   ]
  }
 ],
 "metadata": {
  "kernelspec": {
   "display_name": "Python 3",
   "language": "python",
   "name": "python3"
  },
  "language_info": {
   "codemirror_mode": {
    "name": "ipython",
    "version": 3
   },
   "file_extension": ".py",
   "mimetype": "text/x-python",
   "name": "python",
   "nbconvert_exporter": "python",
   "pygments_lexer": "ipython3",
   "version": "3.6.8"
  }
 },
 "nbformat": 4,
 "nbformat_minor": 2
}
