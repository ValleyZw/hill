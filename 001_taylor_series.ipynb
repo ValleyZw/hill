{
 "cells": [
  {
   "cell_type": "markdown",
   "metadata": {},
   "source": [
    "# Taylor series\n",
    "A continuous function $f(x)$ (with $f^n(x)$ exist and $f^{n+1}(x)$ continuous) can be expanded in the form of a Taylor series:\n",
    "\\begin{eqnarray}\n",
    "f(x) &=& \\sum_{n=0}^\\infty \\frac{f^n(a)}{n!}(x-a)^n \\\\\n",
    "&=& f(a) + f'(a)(x-a) + \\frac{f''(a)}{2!}(x-a)^2 + \\cdots + \\frac{f^{(k)}(a)}{k!}(x-a)^k + h_k(x)(x-a)^k\n",
    "\\end{eqnarray}\n",
    "$\\lim_{x\\to a}h_k(x)=0$. This is called the Peano form of the remainder.\n",
    "\n",
    "Clearly, since many derivatives are involved, a Taylor series expansion is only possible when the function is so smooth that it can be differentiated again and again. An infinite-order polynomial can yield an error-free approximation."
   ]
  },
  {
   "cell_type": "markdown",
   "metadata": {},
   "source": [
    "## Trigonometric function\n",
    "Trigonometric functions are continuous and $n$th-order differentiable, there taylor series can be represented as:\n",
    "\\begin{equation}\n",
    " cos(x)= \\sum_{n=0}^\\infty \\frac{(-1)^n}{(2n)!}x^{2n}\n",
    "\\end{equation}\n",
    "\\begin{equation}\n",
    " sin(x)= \\sum_{n=0}^\\infty \\frac{(-1)^n}{(2n+1)!}x^{2n+1}\n",
    "\\end{equation}"
   ]
  },
  {
   "cell_type": "code",
   "execution_count": null,
   "metadata": {},
   "outputs": [],
   "source": [
    "import math as m\n",
    "import numpy as np\n",
    "import matplotlib.pyplot as plt\n",
    "import scipy.special as sp\n",
    "\n",
    "def Plot(n, X, ORG, APPR, FOMU):\n",
    "    plt.figure()\n",
    "    plt.axes([0.02,0.13,0.9,0.8])\n",
    "    plt.xlim(-4*np.pi,4*np.pi)\n",
    "    plt.ylim(-5,5)\n",
    "    ax = plt.gca()\n",
    "    ax.grid(color='#b7b7b7', linestyle='-', linewidth=0.5, alpha=0.5)\n",
    "    ax.text(-12,4,FOMU + ', n='+str(n),fontsize=12,color='#000000')\n",
    "    plt.plot(X, ORG, '-', color='black', lw=2)\n",
    "    plt.plot(X, APPR, '-', color='#d3d3d3', lw=2)\n",
    "\n",
    "def Series(n):\n",
    "    i=0\n",
    "    APPR_SIN = 0\n",
    "    APPR_COS = 0\n",
    "    # FOMULA\n",
    "    FOMU_SIN = '$\\sum_{n=0}^\\infty {(-1)^n}x^{2n+1}/{(2n+1)!}$'\n",
    "    FOMU_COS = '$\\sum_{n=0}^\\infty {(-1)^n}x^{2n}/{(2n)!}$'\n",
    "    X = np.arange(-4*np.pi,4*np.pi, 8*np.pi/1000)\n",
    "    SIN = np.sin(X)\n",
    "    COS = np.cos(X)\n",
    "        \n",
    "    while (i<=n):\n",
    "        APPR_SIN = APPR_SIN + (-1)**(i)*((X)**(2*i+1))/m.factorial(2*i+1)\n",
    "        APPR_COS = APPR_COS + (-1)**(i)*((X)**(2*i))/m.factorial(2*i)\n",
    "        i+=1\n",
    "    # SIN\n",
    "    Plot(n,X,SIN,APPR_SIN, FOMU_SIN)\n",
    "    # COS\n",
    "    Plot(n,X,COS,APPR_COS, FOMU_COS)\n",
    "    \n",
    "Series(8)"
   ]
  },
  {
   "cell_type": "markdown",
   "metadata": {},
   "source": [
    "Since $e^x$ is its own derivative, the Taylor series expansion for $f(x) = e^x$ is one of the simplest imaginable infinite series:\n",
    "\\begin{equation}\n",
    "e^{x} = \\sum_{n=0}^\\infty \\frac{x^n}{n!} = 1 + x + \\frac{x^2}{2!} + \\frac{x^3}{3!} + \\cdots\n",
    "\\end{equation}\n",
    "We can easily generalize this formula to complex number:\n",
    "\\begin{eqnarray}\n",
    " e^{ix} = \\sum_{n=0}^\\infty \\frac{(ix)^n}{n!} &=& 1 + ix + \\frac{(ix)^2}{2!} + \\frac{(ix)^3}{3!} + \\cdots \\\\\n",
    " &=& 1 + ix - \\frac{x^2}{2!} - \\frac{ix^3}{3!} +\\cdots \\\\\n",
    " &=& \\left( 1 - \\frac{x^2}{2!} + \\cdots \\right) + i\\left( x - \\frac{x^3}{3!} + \\cdots \\right) \\\\\n",
    "\\end{eqnarray}\n",
    "where:\n",
    "\\begin{equation}\n",
    "real\\left\\{e^{ix}\\right\\} =  1 - \\frac{x^2}{2!} +  \\frac{x^4}{4!} - \\cdots\n",
    "\\end{equation}\n",
    "\\begin{equation}\n",
    "imag\\left\\{e^{ix}\\right\\} =  x - \\frac{x^3}{3!} +  \\frac{x^5}{5!} - \\cdots\n",
    "\\end{equation}\n",
    "Recall cos and sin series:\n",
    "\\begin{equation}\n",
    " cos(x)= \\sum_{n=0}^\\infty \\frac{(-1)^n}{(2n)!}x^{2n}\n",
    "\\end{equation}\n",
    "\\begin{equation}\n",
    " sin(x)= \\sum_{n=0}^\\infty \\frac{(-1)^n}{(2n+1)!}x^{2n+1}\n",
    "\\end{equation}\n",
    "We got the most beautiful formula of all time (known as Euler's formula):\n",
    "\\begin{equation}\n",
    "e^{ix} = cos(x) + isin(x)\n",
    "\\end{equation}\n",
    "Which establishes the fundamental relationship between the trigonometric functions and the complex exponential function."
   ]
  },
  {
   "cell_type": "markdown",
   "metadata": {},
   "source": [
    "## Reference:\n",
    "\n",
    "- [Mathematics of the discrete Fourier transform](https://ccrma.stanford.edu/~jos/st/)\n",
    "- [Taylor series - Wikipedia](https://en.wikipedia.org/wiki/Taylor_series)\n",
    "- [Euler's formula - Wikipedia](https://en.wikipedia.org/wiki/Euler%27s_formula)\n",
    "- [Intuitive Understanding Of Euler’s Formula](https://betterexplained.com/articles/intuitive-understanding-of-eulers-formula/)\n",
    "- [3Blue1Brown - YouTube](https://www.youtube.com/channel/UCYO_jab_esuFRV4b17AJtAw)"
   ]
  }
 ],
 "metadata": {
  "kernelspec": {
   "display_name": "Python 3",
   "language": "python",
   "name": "python3"
  },
  "language_info": {
   "codemirror_mode": {
    "name": "ipython",
    "version": 3
   },
   "file_extension": ".py",
   "mimetype": "text/x-python",
   "name": "python",
   "nbconvert_exporter": "python",
   "pygments_lexer": "ipython3",
   "version": "3.6.5"
  }
 },
 "nbformat": 4,
 "nbformat_minor": 2
}
