{
 "cells": [
  {
   "cell_type": "code",
   "execution_count": null,
   "metadata": {},
   "outputs": [],
   "source": [
    "import numpy as np\n",
    "import matplotlib.pyplot as plt\n",
    "from scipy import signal"
   ]
  },
  {
   "cell_type": "markdown",
   "metadata": {},
   "source": [
    "FT algorithm receives a trajectory, apply its filters to find the appropriate cycles, and outputs the full set of cyclic components. There are two algorithms:\n",
    "\n",
    "- the Discrete Fourier Transform (DFT) which requires $O(n^2)$ operations (for n samples)\n",
    "- the Fast Fourier Transform (FFT) which requires $O(nlog(n))$ operations"
   ]
  },
  {
   "cell_type": "markdown",
   "metadata": {},
   "source": [
    "## DFT\n",
    "\\begin{equation}\n",
    "X_k = \\sum_{n=0}^{N-1} x_n e^{-i 2 \\pi k n / N}\n",
    "\\end{equation}\n",
    "\n",
    "\\begin{equation}\n",
    "x_n = \\frac{1}{N} \\sum_{k=0}^{N-1} X_k e^{i 2 \\pi k n / N}\n",
    "\\end{equation}\n",
    "\n",
    "where:\n",
    "- $X_k$ amount of frequency $k$ in the signal; each $k$th value is a complex number including strength (amplitute) and phase shift\n",
    "- $N$ number of samples\n",
    "- $n$ current sample, $n\\in{0\\cdots N−1}$\n",
    "- $k$ current frequency, between $0$ Hz to $N-1$ Hz\n",
    "- $1/N$ not necessary but it gives the actual sizes of the time spikes\n",
    "- $n/N$ is the percent of the time we’ve gone through\n",
    "- $2\\pi{k}$ the speed in radians/second\n",
    "- $e^{−ix}$ the backwards-moving circular path. This last three tell how far we’ve moved, for this speed and time."
   ]
  },
  {
   "cell_type": "code",
   "execution_count": null,
   "metadata": {},
   "outputs": [],
   "source": [
    "# step by step dft\n",
    "def dft_k(x, k):\n",
    "    N = len(x)\n",
    "    return sum((x[n]*np.e**(-1j*2*np.pi*k*n/N) for n in range(N)))\n",
    "\n",
    "# step by step idft\n",
    "def idft_n(X, n):\n",
    "    N = len(x)\n",
    "    return sum((1/N * X[k] * np.e**(1j*2*np.pi*k*n/N) for k in range(N)))"
   ]
  },
  {
   "cell_type": "code",
   "execution_count": null,
   "metadata": {},
   "outputs": [],
   "source": [
    "def remove_frequencies(Xn, N, fs, fre_low, fre_high):\n",
    "    # remove specific frequencies\n",
    "    Yn = np.copy(Xn)\n",
    "    fre_low_n = fre_low * N // fs\n",
    "    fre_high_n = fre_high * N // fs\n",
    "    # remove two side frequiencies\n",
    "    Yn[fre_low_n:fre_high_n] = 0\n",
    "    Yn[N-fre_high_n:N-fre_low_n] = 0\n",
    "    return Yn\n",
    "\n",
    "\n",
    "N = 1000\n",
    "fs = 10000\n",
    "T = 1/fs\n",
    "t = np.linspace(0, N * T, N)\n",
    "x = np.sin(2*np.pi*50*t) + 2 * np.sin(2*np.pi*150*t) + 0.5 * np.sin(2*np.pi*1000*t)\n",
    "\n",
    "# dft: analysis\n",
    "Xn = np.zeros(N, dtype=np.complex)\n",
    "for i in range(N):\n",
    "    X = dft_k(x, i)\n",
    "    Xn[i] = X\n",
    "\n",
    "# filter: remove specific requencies\n",
    "Yn = remove_frequencies(Xn, N, fs, 800, 1200)\n",
    "    \n",
    "# idft: synthesis\n",
    "Re = np.zeros(N, dtype=np.complex)\n",
    "for i in range(N):\n",
    "    Re[i] = idft_n(Yn, i)\n",
    "\n",
    "# one side frequency range\n",
    "xf = np.linspace(0.0, 1.0/(2.0*T), N//2)\n",
    "xn = 2.0/N * np.abs(Xn[0:N//2])\n",
    "yn = 2.0/N * np.abs(Yn[0:N//2])"
   ]
  },
  {
   "cell_type": "code",
   "execution_count": null,
   "metadata": {},
   "outputs": [],
   "source": [
    "#------------------------------------------------------------\n",
    "# Set up the plots\n",
    "fig = plt.figure(figsize=(10, 10))\n",
    "fig.subplots_adjust(left=0.09, bottom=0.09, right=0.95, top=0.95,\n",
    "                    hspace=0.05, wspace=0.05)\n",
    "#----------------------------------------\n",
    "# plot the origional signal\n",
    "ax1 = fig.add_subplot(221)\n",
    "ax1.grid(color='#b7b7b7', linestyle='-', linewidth=0.5, alpha=0.5)\n",
    "ax1.plot(t, x, '-k', label=r'data $D(x)$')\n",
    "plt.setp(ax1.get_xticklabels(), visible=False)\n",
    "\n",
    "#----------------------------------------\n",
    "# plot the dft and area to remove\n",
    "ax2 = fig.add_subplot(222)\n",
    "ax2.plot(xf, xn, '-k')\n",
    "ax2.grid(color='#b7b7b7', linestyle='-', linewidth=0.5, alpha=0.5)\n",
    "ax2.axvspan(800, 1200, facecolor='#b7b7b7', alpha=0.5)\n",
    "ax2.yaxis.tick_right()\n",
    "plt.setp(ax2.get_xticklabels(), visible=False)\n",
    "\n",
    "#----------------------------------------\n",
    "# plot the left frequencies\n",
    "ax3 = fig.add_subplot(224, sharex=ax2)\n",
    "ax3.plot(xf, yn, '-k')\n",
    "ax3.grid(color='#b7b7b7', linestyle='-', linewidth=0.5, alpha=0.5)\n",
    "ax3.yaxis.tick_right()\n",
    "\n",
    "#----------------------------------------\n",
    "# plot the filtered signal\n",
    "ax4 = fig.add_subplot(223, sharex=ax1)\n",
    "ax4.plot(t, Re.real, '-k')\n",
    "ax4.grid(color='#b7b7b7', linestyle='-', linewidth=0.5, alpha=0.5)\n",
    "\n",
    "#------------------------------------------------------------\n",
    "# Plot flow arrows\n",
    "ax = fig.add_axes([0, 0, 1, 1], xticks=[], yticks=[], frameon=False)\n",
    "\n",
    "arrowprops = dict(arrowstyle=\"simple\",\n",
    "                  color=\"#333333\", alpha=0.5,\n",
    "                  shrinkA=5, shrinkB=5,\n",
    "                  patchA=None,\n",
    "                  patchB=None,\n",
    "                  connectionstyle=\"arc3,rad=-0.35\")\n",
    "\n",
    "ax.annotate('', [0.57, 0.57], [0.47, 0.57],\n",
    "            arrowprops=arrowprops,\n",
    "            transform=ax.transAxes)\n",
    "ax.annotate('', [0.57, 0.47], [0.57, 0.57],\n",
    "            arrowprops=arrowprops,\n",
    "            transform=ax.transAxes)\n",
    "ax.annotate('', [0.47, 0.47], [0.57, 0.47],\n",
    "            arrowprops=arrowprops,\n",
    "            transform=ax.transAxes)\n",
    "plt.show()"
   ]
  },
  {
   "cell_type": "markdown",
   "metadata": {},
   "source": [
    "## Reference:\n",
    "\n",
    "- [Fourier Transform: A R Tutorial](http://www.di.fc.ul.pt/~jpn/r/fourier/fourier.html)\n",
    "- [An Interactive Guide To The Fourier Transform](https://betterexplained.com/articles/an-interactive-guide-to-the-fourier-transform/)\n",
    "- [An Interactive Introduction to Fourier Transforms](http://www.jezzamon.com/fourier/index.html)"
   ]
  }
 ],
 "metadata": {
  "kernelspec": {
   "display_name": "Python 3",
   "language": "python",
   "name": "python3"
  },
  "language_info": {
   "codemirror_mode": {
    "name": "ipython",
    "version": 3
   },
   "file_extension": ".py",
   "mimetype": "text/x-python",
   "name": "python",
   "nbconvert_exporter": "python",
   "pygments_lexer": "ipython3",
   "version": "3.6.5"
  }
 },
 "nbformat": 4,
 "nbformat_minor": 2
}
