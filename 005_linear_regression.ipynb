{
 "cells": [
  {
   "cell_type": "code",
   "execution_count": null,
   "metadata": {},
   "outputs": [],
   "source": [
    "%matplotlib inline\n",
    "import matplotlib.pyplot as plt\n",
    "import numpy as np"
   ]
  },
  {
   "cell_type": "code",
   "execution_count": null,
   "metadata": {},
   "outputs": [],
   "source": [
    "# generate random data\n",
    "n = 50\n",
    "rng = np.random.RandomState(1)\n",
    "x = np.array([10 * rng.rand(n)]).T\n",
    "y = 2 * x - 5 + np.array([rng.rand(n)]).T\n",
    "\n",
    "plt.figure(figsize=(10,5))\n",
    "ax = plt.gca()\n",
    "ax.grid(color='#b7b7b7', linestyle='-', linewidth=0.5, alpha=0.5)\n",
    "plt.scatter(x,y, color='#333333', alpha=0.7)\n",
    "ax.axvline(6, color='#121212', linestyle='--', linewidth=1, alpha=0.9)\n",
    "plt.show()"
   ]
  },
  {
   "cell_type": "markdown",
   "metadata": {},
   "source": [
    "To predit the value of the incoming points, the simple solution is to approximate $y$ as a continuous linear function of $x$:\n",
    "\\begin{equation}\n",
    "\\hat{y} = f(x, \\mathbf{w}) = \\omega_0 + \\omega_1x\n",
    "\\end{equation}\n",
    "\n",
    "Objective: find $\\mathbf{w}$ which minimize the error.\n",
    "\\begin{equation}\n",
    "J(\\mathbf{w}) = \\frac{1}{2n}\\sum_{i=1}^{N}(f(x_i, \\mathbf{w}) - y_i)^2\n",
    "\\end{equation}\n",
    "\n",
    "Let's start with random values of $\\omega_0$ and $\\omega_1$."
   ]
  },
  {
   "cell_type": "code",
   "execution_count": null,
   "metadata": {},
   "outputs": [],
   "source": [
    "weights = [np.random.randint(-10, 10), np.random.randint(-10, 10)]\n",
    "\n",
    "xfit = np.linspace(0, 10, 1000)\n",
    "yfit = weights[0] + weights[1] * xfit\n",
    "\n",
    "plt.figure(figsize=(10,5))\n",
    "ax = plt.gca()\n",
    "ax.grid(color='#b7b7b7', linestyle='-', linewidth=0.5, alpha=0.5)\n",
    "plt.scatter(x,y, color='#333333', alpha=0.7)\n",
    "plt.plot(xfit,yfit, color='#333333')\n",
    "plt.show()"
   ]
  },
  {
   "cell_type": "markdown",
   "metadata": {},
   "source": [
    "## Linear regression\n",
    "\n",
    "Optimize fit line with linear regression.\n",
    "\n",
    "### 1. Feedforward\n",
    "\\begin{equation}\n",
    "\\hat{y} = W^TX\n",
    "\\end{equation}\n",
    "\n",
    "### 2. Compute cost function\n",
    "\\begin{equation}\n",
    "Loss(y, \\hat{y}) = \\frac{1}{2n}(\\hat{y} - y)^T \\cdot (\\hat{y} - y)\n",
    "\\end{equation}\n",
    "\n",
    "### 3. Backpropagation\n",
    "\\begin{eqnarray}\n",
    "\\frac{\\delta Loss(y, \\hat{y})}{\\delta W} &=& \\frac{\\delta Loss(y, \\hat{y})}{\\delta \\hat{y}}\\cdot\\frac{\\delta \\hat{y}}{\\delta W} \\\\\n",
    "&=& \\frac{1}{n}X^T(\\hat{y}-y)\n",
    "\\end{eqnarray}\n",
    "\n",
    "### 4. Gradient descent\n",
    "\\begin{equation}\n",
    "W = W - \\alpha  \\frac{\\delta Loss(y, \\hat{y})}{\\delta W}\n",
    "\\end{equation}"
   ]
  },
  {
   "cell_type": "code",
   "execution_count": null,
   "metadata": {},
   "outputs": [],
   "source": [
    "class LinearRegression:\n",
    "    def __init__(self, x, y, iterations, learning_rate):\n",
    "        self.input       = np.c_[np.ones((x.shape[0], 1)), x]\n",
    "        self.y           = y\n",
    "        self._iterations = iterations\n",
    "        self._rate       = learning_rate\n",
    "        self.weights     = np.random.rand(self.input.shape[1],1) \n",
    "        self.output      = np.zeros(y.shape)\n",
    "    \n",
    "    def _feedforward(self):\n",
    "        self.output = self.input.dot(self.weights)\n",
    "        \n",
    "    def _backprop(self):\n",
    "        delta_weights = self.input.T.dot(self.output-self.y)/len(self.y)        \n",
    "        self.weights -= self._rate * delta_weights\n",
    "    \n",
    "    def get_loss(self):\n",
    "        return 1/(2*len(y)) * np.asscalar((self.output-self.y).T.dot(self.output-self.y))\n",
    "\n",
    "    def train(self):\n",
    "        for i in range(self._iterations):\n",
    "            self._feedforward()\n",
    "            self._backprop()\n",
    "            \n",
    "iterations = 1000\n",
    "learning_rate = 0.02\n",
    "\n",
    "lr = LinearRegression(x, y, iterations, learning_rate)\n",
    "lr.train()\n",
    "loss = lr.get_loss()\n",
    "\n",
    "weights = lr.weights\n",
    "xfit = np.linspace(0, 10, 1000)\n",
    "yfit = weights[0] + weights[1] * xfit\n",
    "\n",
    "\n",
    "plt.figure(figsize=(10,5))\n",
    "ax = plt.gca()\n",
    "ax.grid(color='#b7b7b7', linestyle='-', linewidth=0.5, alpha=0.5)\n",
    "ax.text(0, 10, f'error = {loss:.2f}',fontsize=12,color='#000000')\n",
    "plt.scatter(x,y, color='#333333', alpha=0.7)\n",
    "plt.plot(xfit,yfit, color='#333333')\n",
    "ax.axvline(6, color='#121212', linestyle='--', linewidth=1, alpha=0.9)\n",
    "plt.scatter(6,yfit[600], s=100, c='#212121', alpha=0.7)\n",
    "plt.show()"
   ]
  }
 ],
 "metadata": {
  "kernelspec": {
   "display_name": "Python 3",
   "language": "python",
   "name": "python3"
  },
  "language_info": {
   "codemirror_mode": {
    "name": "ipython",
    "version": 3
   },
   "file_extension": ".py",
   "mimetype": "text/x-python",
   "name": "python",
   "nbconvert_exporter": "python",
   "pygments_lexer": "ipython3",
   "version": "3.7.2"
  }
 },
 "nbformat": 4,
 "nbformat_minor": 2
}
